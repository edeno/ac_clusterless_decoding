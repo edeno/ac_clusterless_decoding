{
 "cells": [
  {
   "cell_type": "code",
   "execution_count": 1,
   "metadata": {},
   "outputs": [],
   "source": [
    "%matplotlib inline\n",
    "%reload_ext autoreload\n",
    "%autoreload 2\n",
    "%config InlineBackend.figure_format = 'retina'"
   ]
  },
  {
   "cell_type": "code",
   "execution_count": 2,
   "metadata": {},
   "outputs": [],
   "source": [
    "import numpy as np\n",
    "import matplotlib.pyplot as plt\n",
    "\n",
    "import logging\n",
    "logging.basicConfig(level=logging.INFO)"
   ]
  },
  {
   "cell_type": "code",
   "execution_count": 3,
   "metadata": {},
   "outputs": [],
   "source": [
    "epoch_key = ('jaq', 1, 2) # animal, day, epoch"
   ]
  },
  {
   "cell_type": "code",
   "execution_count": 4,
   "metadata": {},
   "outputs": [],
   "source": [
    "from src.load_data import make_track_graph\n",
    "\n",
    "track_graph, center_well_id = make_track_graph()"
   ]
  },
  {
   "cell_type": "code",
   "execution_count": 45,
   "metadata": {},
   "outputs": [],
   "source": [
    "place_bin_size = 2.0\n",
    "edge_order = [6, 5, 3, 8, 7, 4, 2, 0, 1]\n",
    "edge_spacing = 15"
   ]
  },
  {
   "cell_type": "code",
   "execution_count": 52,
   "metadata": {},
   "outputs": [],
   "source": [
    "from src.load_data import convert_linear_distance_to_linear_position\n",
    "from scipy.interpolate import interp1d\n",
    "import networkx as nx\n",
    "\n",
    "track_graph1 = track_graph.copy()\n",
    "n_nodes = len(track_graph.nodes)\n",
    "\n",
    "for edge_ind, (node1, node2) in enumerate(track_graph.edges):\n",
    "    node1_x_pos, node1_y_pos = track_graph.nodes[node1]['pos']\n",
    "    node2_x_pos, node2_y_pos = track_graph.nodes[node2]['pos']\n",
    "    \n",
    "    edge_size = np.linalg.norm(\n",
    "        [(node2_x_pos - node1_x_pos), (node2_y_pos - node1_y_pos)])\n",
    "    n_bins = 2 * np.ceil(edge_size / place_bin_size).astype(np.int) + 1\n",
    "\n",
    "    f = interp1d((node1_x_pos, node2_x_pos), (node1_y_pos, node2_y_pos))\n",
    "    \n",
    "    xnew = np.linspace(node1_x_pos, node2_x_pos, num=n_bins, endpoint=True)    \n",
    "    xy = np.stack((xnew, f(xnew)), axis=1)\n",
    "    dist_between_nodes = np.linalg.norm(np.diff(xy, axis=0), axis=1)\n",
    "    \n",
    "    new_node_ids = n_nodes + np.arange(len(dist_between_nodes))\n",
    "    nx.add_path(track_graph1, [node1, *new_node_ids, node2], distance=dist_between_nodes[0])\n",
    "    track_graph1.remove_edge(node1, node2)\n",
    "    for id, pos in zip(new_node_ids, xy):\n",
    "        track_graph1.nodes[id]['pos'] = pos\n",
    "        track_graph1.nodes[id]['track_segment_id'] = edge_ind\n",
    "    track_graph1.nodes[node1]['track_segment_id'] = edge_ind\n",
    "    track_graph1.nodes[node2]['track_segment_id'] = edge_ind\n",
    "    n_nodes = len(track_graph1.nodes)"
   ]
  },
  {
   "cell_type": "code",
   "execution_count": 53,
   "metadata": {},
   "outputs": [],
   "source": [
    "distance = dict(nx.all_pairs_dijkstra_path_length(track_graph1, weight='distance'))\n",
    "\n",
    "node_ids, linear_distance = list(zip(*distance[center_well_id].items()))\n",
    "ids = nx.get_node_attributes(track_graph1, 'track_segment_id')\n",
    "track_segment_id = np.array([ids[node_id] for node_id in node_ids])\n",
    "linear_distance = np.array(linear_distance)\n",
    "\n",
    "linear_position = convert_linear_distance_to_linear_position(\n",
    "        linear_distance, track_segment_id, edge_order, spacing=edge_spacing)"
   ]
  },
  {
   "cell_type": "code",
   "execution_count": 58,
   "metadata": {},
   "outputs": [
    {
     "data": {
      "image/png": "[encoded data removed]",
      "text/plain": [
       "<Figure size 1800x216 with 1 Axes>"
      ]
     },
     "metadata": {
      "image/png": {
       "height": 197,
       "width": 1432
      },
      "needs_background": "light"
     },
     "output_type": "display_data"
    }
   ],
   "source": [
    "plt.figure(figsize=(25, 3))\n",
    "\n",
    "for pos in linear_position[1::2]:\n",
    "    plt.axvline(pos)\n",
    "    \n",
    "for pos in linear_position[::2]:\n",
    "    plt.axvline(pos, color='red')"
   ]
  },
  {
   "cell_type": "code",
   "execution_count": null,
   "metadata": {},
   "outputs": [],
   "source": [
    "from scipy.stats import multivariate_normal\n",
    "from src.load_data import convert_linear_distance_to_linear_position\n",
    "from scipy.ndimage import label\n",
    "from replay_trajectory_classification.state_transition import _normalize_row_probability\n",
    "\n",
    "EDGE_ORDER = [6, 5, 3, 8, 7, 4, 2, 0, 1]\n",
    "    \n",
    "    \n",
    "def make_state_transition(track_graph, place_bin_centers, center_well_id,\n",
    "                          is_track_interior, edge_order, edge_spacing,\n",
    "                          replay_speed=1, movement_var=64):\n",
    "    \n",
    "    track_graph1 = track_graph.copy()\n",
    "    n_nodes = len(track_graph.nodes)\n",
    "    n_bins = 100\n",
    "\n",
    "    for edge_ind, (node1, node2) in enumerate(track_graph.edges):\n",
    "        node1_x_pos, node1_y_pos = track_graph.nodes[node1]['pos']\n",
    "        node2_x_pos, node2_y_pos = track_graph.nodes[node2]['pos']\n",
    "        f = interp1d((node1_x_pos, node2_x_pos), (node1_y_pos, node2_y_pos))\n",
    "        xnew = np.linspace(node1_x_pos, node2_x_pos, num=n_bins, endpoint=True)    \n",
    "        xy = np.stack((xnew, f(xnew)), axis=1)\n",
    "        dist = np.linalg.norm(np.diff(xy, axis=0), axis=1)\n",
    "        new_node_ids = n_nodes + np.arange(len(dist))\n",
    "        nx.add_path(track_graph1, [node1, *new_node_ids, node2], distance=dist[0])\n",
    "        track_graph1.remove_edge(node1, node2)\n",
    "        for id, pos in zip(new_node_ids, xy):\n",
    "            track_graph1.nodes[id]['pos'] = pos\n",
    "            track_graph1.nodes[id]['track_segment_id'] = edge_ind\n",
    "        track_graph1.nodes[node1]['track_segment_id'] = edge_ind\n",
    "        track_graph1.nodes[node2]['track_segment_id'] = edge_ind\n",
    "        n_nodes = len(track_graph1.nodes)\n",
    "        \n",
    "    distance = dict(nx.all_pairs_dijkstra_path_length(track_graph1, weight='distance'))\n",
    "    \n",
    "    node_ids, linear_distance = list(zip(*distance[center_well_id].items()))\n",
    "    ids = nx.get_node_attributes(track_graph1, 'track_segment_id')\n",
    "    track_segment_id = np.array([ids[node_id] for node_id in node_ids])\n",
    "    linear_distance = np.array(linear_distance)\n",
    "\n",
    "    linear_position = convert_linear_distance_to_linear_position(\n",
    "            linear_distance, track_segment_id, edge_order, spacing=edge_spacing)\n",
    "\n",
    "    close_ind = np.argmin(np.abs(linear_position - place_bin_centers), axis=1)\n",
    "\n",
    "    state_transition = np.zeros((place_bin_centers.size, place_bin_centers.size))\n",
    "    gaussian = multivariate_normal(\n",
    "            mean=0, cov=movement_var * replay_speed)\n",
    "\n",
    "    for bin_ind1, node_ind1 in enumerate(close_ind):\n",
    "        for bin_ind2, node_ind2 in enumerate(close_ind):\n",
    "            state_transition[bin_ind1, bin_ind2] = gaussian.pdf(\n",
    "                    distance[node_ids[node_ind1]][node_ids[node_ind2]])\n",
    "\n",
    "    state_transition[~is_track_interior] = 0\n",
    "    state_transition[:, ~is_track_interior] = 0\n",
    "    \n",
    "    state_transition = _normalize_row_probability(state_transition)\n",
    "    node_to_bin = np.array([node_ids[ind] for ind in close_ind])\n",
    "    \n",
    "    return state_transition, track_graph1, node_to_bin"
   ]
  }
 ],
 "metadata": {
  "kernelspec": {
   "display_name": "Python [conda env:cameron_alison_theta_decoding] *",
   "language": "python",
   "name": "conda-env-cameron_alison_theta_decoding-py"
  },
  "language_info": {
   "codemirror_mode": {
    "name": "ipython",
    "version": 3
   },
   "file_extension": ".py",
   "mimetype": "text/x-python",
   "name": "python",
   "nbconvert_exporter": "python",
   "pygments_lexer": "ipython3",
   "version": "3.6.7"
  }
 },
 "nbformat": 4,
 "nbformat_minor": 4
}
