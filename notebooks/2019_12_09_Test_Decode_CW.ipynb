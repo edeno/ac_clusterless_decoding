{
 "cells": [
  {
   "cell_type": "code",
   "execution_count": 16,
   "metadata": {},
   "outputs": [],
   "source": [
    "%matplotlib inline\n",
    "%reload_ext autoreload\n",
    "%autoreload 2\n",
    "%config InlineBackend.figure_format = 'retina'"
   ]
  },
  {
   "cell_type": "code",
   "execution_count": 17,
   "metadata": {},
   "outputs": [],
   "source": [
    "import numpy as np\n",
    "import matplotlib.pyplot as plt\n",
    "import hvplot.pandas  # noqa\n",
    "from src.load_data import load_data\n",
    "import pickle\n",
    "\n",
    "import logging\n",
    "logging.basicConfig(level=logging.INFO)"
   ]
  },
  {
   "cell_type": "code",
   "execution_count": 18,
   "metadata": {},
   "outputs": [],
   "source": [
    "# parameters \n",
    "\n",
    "t1 = 32500 # start time from decode\n",
    "t2 = 34500 # end time from decode\n",
    "loaddata = 0 # loads pos, marks, theta, only have to load once if working across single epoch\n",
    "savedata = 1 # saves results as .nc file, data as .pkl "
   ]
  },
  {
   "cell_type": "code",
   "execution_count": 19,
   "metadata": {},
   "outputs": [],
   "source": [
    "epoch_key = ('jaq', 1, 2) # animal, day, epoch"
   ]
  },
  {
   "cell_type": "code",
   "execution_count": 20,
   "metadata": {},
   "outputs": [],
   "source": [
    "if loaddata==1:\n",
    "    data = load_data(epoch_key)"
   ]
  },
  {
   "cell_type": "code",
   "execution_count": 21,
   "metadata": {},
   "outputs": [
    {
     "data": {
      "text/plain": [
       "<matplotlib.collections.PathCollection at 0x7f3193f97438>"
      ]
     },
     "execution_count": 21,
     "metadata": {},
     "output_type": "execute_result"
    },
    {
     "data": {
      "image/png": "[encoded data removed]",
      "text/plain": [
       "<Figure size 432x288 with 1 Axes>"
      ]
     },
     "metadata": {
      "image/png": {
       "height": 248,
       "width": 372
      },
      "needs_background": "light"
     },
     "output_type": "display_data"
    }
   ],
   "source": [
    "# plots segments over traversal\n",
    "\n",
    "plt.scatter(data['position_info'][t1:t2].index / np.timedelta64(1, 's'), data['position_info'][t1:t2].track_segment_id) "
   ]
  },
  {
   "cell_type": "code",
   "execution_count": 22,
   "metadata": {},
   "outputs": [],
   "source": [
    "from dask.distributed import Client\n",
    "\n",
    "client = Client(n_workers=16,\n",
    "                threads_per_worker=2,\n",
    "                processes=True,\n",
    "                memory_limit='25GB')"
   ]
  },
  {
   "cell_type": "code",
   "execution_count": 23,
   "metadata": {},
   "outputs": [
    {
     "data": {
      "text/plain": [
       "\u001b[0;31mInit signature:\u001b[0m\n",
       "\u001b[0mClusterlessDecoder\u001b[0m\u001b[0;34m(\u001b[0m\u001b[0;34m\u001b[0m\n",
       "\u001b[0;34m\u001b[0m    \u001b[0mplace_bin_size\u001b[0m\u001b[0;34m=\u001b[0m\u001b[0;36m2.0\u001b[0m\u001b[0;34m,\u001b[0m\u001b[0;34m\u001b[0m\n",
       "\u001b[0;34m\u001b[0m    \u001b[0mreplay_speed\u001b[0m\u001b[0;34m=\u001b[0m\u001b[0;36m40\u001b[0m\u001b[0;34m,\u001b[0m\u001b[0;34m\u001b[0m\n",
       "\u001b[0;34m\u001b[0m    \u001b[0mmovement_var\u001b[0m\u001b[0;34m=\u001b[0m\u001b[0;36m0.05\u001b[0m\u001b[0;34m,\u001b[0m\u001b[0;34m\u001b[0m\n",
       "\u001b[0;34m\u001b[0m    \u001b[0mposition_range\u001b[0m\u001b[0;34m=\u001b[0m\u001b[0;32mNone\u001b[0m\u001b[0;34m,\u001b[0m\u001b[0;34m\u001b[0m\n",
       "\u001b[0;34m\u001b[0m    \u001b[0mmodel\u001b[0m\u001b[0;34m=\u001b[0m\u001b[0;34m<\u001b[0m\u001b[0;32mclass\u001b[0m \u001b[0;34m'replay_trajectory_classification.misc.NumbaKDE'\u001b[0m\u001b[0;34m>\u001b[0m\u001b[0;34m,\u001b[0m\u001b[0;34m\u001b[0m\n",
       "\u001b[0;34m\u001b[0m    \u001b[0mmodel_kwargs\u001b[0m\u001b[0;34m=\u001b[0m\u001b[0;34m{\u001b[0m\u001b[0;34m'bandwidth'\u001b[0m\u001b[0;34m:\u001b[0m \u001b[0marray\u001b[0m\u001b[0;34m(\u001b[0m\u001b[0;34m[\u001b[0m\u001b[0;36m24.\u001b[0m\u001b[0;34m,\u001b[0m \u001b[0;36m24.\u001b[0m\u001b[0;34m,\u001b[0m \u001b[0;36m24.\u001b[0m\u001b[0;34m,\u001b[0m \u001b[0;36m24.\u001b[0m\u001b[0;34m,\u001b[0m  \u001b[0;36m6.\u001b[0m\u001b[0;34m,\u001b[0m  \u001b[0;36m6.\u001b[0m\u001b[0;34m]\u001b[0m\u001b[0;34m)\u001b[0m\u001b[0;34m}\u001b[0m\u001b[0;34m,\u001b[0m\u001b[0;34m\u001b[0m\n",
       "\u001b[0;34m\u001b[0m    \u001b[0moccupancy_model\u001b[0m\u001b[0;34m=\u001b[0m\u001b[0;32mNone\u001b[0m\u001b[0;34m,\u001b[0m\u001b[0;34m\u001b[0m\n",
       "\u001b[0;34m\u001b[0m    \u001b[0moccupancy_kwargs\u001b[0m\u001b[0;34m=\u001b[0m\u001b[0;32mNone\u001b[0m\u001b[0;34m,\u001b[0m\u001b[0;34m\u001b[0m\n",
       "\u001b[0;34m\u001b[0m    \u001b[0mtransition_type\u001b[0m\u001b[0;34m=\u001b[0m\u001b[0;34m'random_walk'\u001b[0m\u001b[0;34m,\u001b[0m\u001b[0;34m\u001b[0m\n",
       "\u001b[0;34m\u001b[0m    \u001b[0minitial_conditions_type\u001b[0m\u001b[0;34m=\u001b[0m\u001b[0;34m'uniform_on_track'\u001b[0m\u001b[0;34m,\u001b[0m\u001b[0;34m\u001b[0m\n",
       "\u001b[0;34m\u001b[0m    \u001b[0minfer_track_interior\u001b[0m\u001b[0;34m=\u001b[0m\u001b[0;32mTrue\u001b[0m\u001b[0;34m,\u001b[0m\u001b[0;34m\u001b[0m\n",
       "\u001b[0;34m\u001b[0m\u001b[0;34m)\u001b[0m\u001b[0;34m\u001b[0m\u001b[0;34m\u001b[0m\u001b[0m\n",
       "\u001b[0;31mDocstring:\u001b[0m     \n",
       "Attributes\n",
       "----------\n",
       "place_bin_size : float, optional\n",
       "    Approximate size of the position bins.\n",
       "replay_speed : int, optional\n",
       "    How many times faster the replay movement is than normal movement.\n",
       "movement_var : float, optional\n",
       "    How far the animal is can move in one time bin during normal\n",
       "    movement.\n",
       "position_range : sequence, optional\n",
       "    A sequence of `n_position_dims`, each an optional (lower, upper)\n",
       "    tuple giving the outer bin edges for position.\n",
       "    An entry of None in the sequence results in the minimum and maximum\n",
       "    values being used for the corresponding dimension.\n",
       "    The default, None, is equivalent to passing a tuple of\n",
       "    `n_position_dims` None values.\n",
       "model : scikit-learn density estimator, optional\n",
       "model_kwargs : dict, optional\n",
       "occupancy_model : scikit-learn density estimator, optional\n",
       "occupancy_kwargs : dict, optional\n",
       "transition_type : ('empirical_movement' | 'random_walk' |\n",
       "                   'uniform', 'identity')\n",
       "initial_conditions_type : ('uniform' | 'uniform_on_track')\n",
       "\u001b[0;31mFile:\u001b[0m           ~/anaconda3/envs/cameron_alison_theta_decoding/lib/python3.6/site-packages/replay_trajectory_classification/decoder.py\n",
       "\u001b[0;31mType:\u001b[0m           type\n",
       "\u001b[0;31mSubclasses:\u001b[0m     \n"
      ]
     },
     "metadata": {},
     "output_type": "display_data"
    }
   ],
   "source": [
    "from replay_trajectory_classification import ClusterlessDecoder\n",
    "\n",
    "ClusterlessDecoder?"
   ]
  },
  {
   "cell_type": "code",
   "execution_count": 24,
   "metadata": {},
   "outputs": [],
   "source": [
    "decoder = ClusterlessDecoder(transition_type='empirical_movement', replay_speed=40, place_bin_size=5)"
   ]
  },
  {
   "cell_type": "code",
   "execution_count": 25,
   "metadata": {},
   "outputs": [
    {
     "name": "stderr",
     "output_type": "stream",
     "text": [
      "INFO:replay_trajectory_classification.decoder:Fitting initial conditions...\n",
      "INFO:replay_trajectory_classification.decoder:Fitting state transition...\n",
      "INFO:replay_trajectory_classification.decoder:Fitting multiunits...\n"
     ]
    },
    {
     "data": {
      "text/plain": [
       "ClusterlessDecoder(infer_track_interior=True,\n",
       "                   initial_conditions_type='uniform_on_track',\n",
       "                   model=<class 'replay_trajectory_classification.misc.NumbaKDE'>,\n",
       "                   model_kwargs={'bandwidth': array([24., 24., 24., 24.,  6.,  6.])},\n",
       "                   movement_var=0.05,\n",
       "                   occupancy_kwargs={'bandwidth': array([24., 24., 24., 24.,  6.,  6.])},\n",
       "                   occupancy_model=<class 'replay_trajectory_classification.misc.NumbaKDE'>,\n",
       "                   place_bin_size=5, position_range=None, replay_speed=40,\n",
       "                   transition_type='uniform')"
      ]
     },
     "execution_count": 25,
     "metadata": {},
     "output_type": "execute_result"
    }
   ],
   "source": [
    "decoder.fit(\n",
    "    position=data['position_info'].linear_position,\n",
    "    multiunits=data['multiunits'],\n",
    "    is_training=data['position_info'].speed > 4)"
   ]
  },
  {
   "cell_type": "code",
   "execution_count": 26,
   "metadata": {},
   "outputs": [],
   "source": [
    "import time\n",
    "\n",
    "_start_time = time.time()\n",
    "\n",
    "def tic():\n",
    "    global _start_time \n",
    "    _start_time = time.time()\n",
    "\n",
    "def toc():\n",
    "    t_sec = round(time.time() - _start_time)\n",
    "    (t_min, t_sec) = divmod(t_sec,60)\n",
    "    (t_hour,t_min) = divmod(t_min,60) \n",
    "    print('Time passed: {}hour:{}min:{}sec'.format(t_hour,t_min,t_sec))"
   ]
  },
  {
   "cell_type": "code",
   "execution_count": 27,
   "metadata": {},
   "outputs": [
    {
     "name": "stdout",
     "output_type": "stream",
     "text": [
      "Time passed: 0hour:8min:9sec\n"
     ]
    }
   ],
   "source": [
    "tic()\n",
    "results = decoder.predict(data['multiunits'].isel(time=slice(t1,t2)))\n",
    "toc()"
   ]
  },
  {
   "cell_type": "code",
   "execution_count": 34,
   "metadata": {},
   "outputs": [],
   "source": [
    "if savedata==1:\n",
    "    fpath = '/home/cwilhite/Src/cameron_alison_theta_decoding/Processed-Data/'\n",
    "    results.to_netcdf(fpath + 'results_'+ str(epoch_key[0]) + '_' + str(epoch_key[1]) + '_' + str(epoch_key[2]) + '_' + str(t1) + '_' + str(t2) + '.nc', 'w') # will override\n",
    "    f = open(fpath + 'data_' + str(epoch_key[0]) + '_' + str(epoch_key[1]) + '_' + str(epoch_key[2]) + \".pkl\",\"wb\")\n",
    "    pickle.dump(data,f)\n",
    "    f.close()"
   ]
  },
  {
   "cell_type": "code",
   "execution_count": null,
   "metadata": {},
   "outputs": [],
   "source": []
  }
 ],
 "metadata": {
  "kernelspec": {
   "display_name": "Python 3",
   "language": "python",
   "name": "python3"
  },
  "language_info": {
   "codemirror_mode": {
    "name": "ipython",
    "version": 3
   },
   "file_extension": ".py",
   "mimetype": "text/x-python",
   "name": "python",
   "nbconvert_exporter": "python",
   "pygments_lexer": "ipython3",
   "version": "3.6.9"
  }
 },
 "nbformat": 4,
 "nbformat_minor": 4
}
