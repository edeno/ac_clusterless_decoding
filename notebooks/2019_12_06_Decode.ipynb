{
 "cells": [
  {
   "cell_type": "code",
   "execution_count": 1,
   "metadata": {},
   "outputs": [],
   "source": [
    "%matplotlib inline\n",
    "%reload_ext autoreload\n",
    "%autoreload 2\n",
    "%config InlineBackend.figure_format = 'retina'"
   ]
  },
  {
   "cell_type": "code",
   "execution_count": 2,
   "metadata": {},
   "outputs": [],
   "source": [
    "import numpy as np\n",
    "import matplotlib.pyplot as plt\n",
    "\n",
    "import logging\n",
    "logging.basicConfig(level=logging.INFO)"
   ]
  },
  {
   "cell_type": "markdown",
   "metadata": {},
   "source": [
    "## Load Data"
   ]
  },
  {
   "cell_type": "code",
   "execution_count": 3,
   "metadata": {},
   "outputs": [],
   "source": [
    "epoch_key = ('jaq', 1, 2) # animal, day, epoch"
   ]
  },
  {
   "cell_type": "code",
   "execution_count": 4,
   "metadata": {},
   "outputs": [
    {
     "name": "stderr",
     "output_type": "stream",
     "text": [
      "INFO:src.load_data:Loading position information and linearizing...\n",
      "INFO:src.load_data:Loading multiunits...\n"
     ]
    }
   ],
   "source": [
    "from src.load_data import load_data\n",
    "\n",
    "data = load_data(epoch_key)"
   ]
  },
  {
   "cell_type": "markdown",
   "metadata": {},
   "source": [
    "Data is a dictionary with two keys: `position_info` and `multiunits`.\n",
    "\n",
    "Position info has 1D and 2D position data as well as head direction and speed. Multiunits has the marks.\n",
    "\n",
    "These are both interpolated to/binned at 500 Hz."
   ]
  },
  {
   "cell_type": "code",
   "execution_count": 5,
   "metadata": {},
   "outputs": [
    {
     "data": {
      "text/html": [
       "<div>\n",
       "<style scoped>\n",
       "    .dataframe tbody tr th:only-of-type {\n",
       "        vertical-align: middle;\n",
       "    }\n",
       "\n",
       "    .dataframe tbody tr th {\n",
       "        vertical-align: top;\n",
       "    }\n",
       "\n",
       "    .dataframe thead th {\n",
       "        text-align: right;\n",
       "    }\n",
       "</style>\n",
       "<table border=\"1\" class=\"dataframe\">\n",
       "  <thead>\n",
       "    <tr style=\"text-align: right;\">\n",
       "      <th></th>\n",
       "      <th>x_position</th>\n",
       "      <th>y_position</th>\n",
       "      <th>head_direction</th>\n",
       "      <th>speed</th>\n",
       "      <th>linear_distance</th>\n",
       "      <th>track_segment_id</th>\n",
       "      <th>linear_position</th>\n",
       "    </tr>\n",
       "    <tr>\n",
       "      <th>time</th>\n",
       "      <th></th>\n",
       "      <th></th>\n",
       "      <th></th>\n",
       "      <th></th>\n",
       "      <th></th>\n",
       "      <th></th>\n",
       "      <th></th>\n",
       "    </tr>\n",
       "  </thead>\n",
       "  <tbody>\n",
       "    <tr>\n",
       "      <th>00:43:30.546587</th>\n",
       "      <td>28.574616</td>\n",
       "      <td>50.447565</td>\n",
       "      <td>-0.524582</td>\n",
       "      <td>27.167580</td>\n",
       "      <td>55.166435</td>\n",
       "      <td>0.0</td>\n",
       "      <td>241.577308</td>\n",
       "    </tr>\n",
       "    <tr>\n",
       "      <th>00:43:30.548587</th>\n",
       "      <td>28.620635</td>\n",
       "      <td>50.416210</td>\n",
       "      <td>-0.522722</td>\n",
       "      <td>27.038446</td>\n",
       "      <td>55.111752</td>\n",
       "      <td>0.0</td>\n",
       "      <td>241.522625</td>\n",
       "    </tr>\n",
       "    <tr>\n",
       "      <th>00:43:30.550587</th>\n",
       "      <td>28.666655</td>\n",
       "      <td>50.384854</td>\n",
       "      <td>-0.520861</td>\n",
       "      <td>26.909312</td>\n",
       "      <td>55.057070</td>\n",
       "      <td>0.0</td>\n",
       "      <td>241.467942</td>\n",
       "    </tr>\n",
       "    <tr>\n",
       "      <th>00:43:30.552587</th>\n",
       "      <td>28.712674</td>\n",
       "      <td>50.353498</td>\n",
       "      <td>-0.519001</td>\n",
       "      <td>26.780177</td>\n",
       "      <td>55.002387</td>\n",
       "      <td>0.0</td>\n",
       "      <td>241.413260</td>\n",
       "    </tr>\n",
       "    <tr>\n",
       "      <th>00:43:30.554587</th>\n",
       "      <td>28.758693</td>\n",
       "      <td>50.322143</td>\n",
       "      <td>-0.517140</td>\n",
       "      <td>26.651043</td>\n",
       "      <td>54.947704</td>\n",
       "      <td>0.0</td>\n",
       "      <td>241.358577</td>\n",
       "    </tr>\n",
       "    <tr>\n",
       "      <th>...</th>\n",
       "      <td>...</td>\n",
       "      <td>...</td>\n",
       "      <td>...</td>\n",
       "      <td>...</td>\n",
       "      <td>...</td>\n",
       "      <td>...</td>\n",
       "      <td>...</td>\n",
       "    </tr>\n",
       "    <tr>\n",
       "      <th>01:17:35.746587</th>\n",
       "      <td>4.403802</td>\n",
       "      <td>28.534400</td>\n",
       "      <td>-2.917781</td>\n",
       "      <td>2.868040</td>\n",
       "      <td>34.784349</td>\n",
       "      <td>5.0</td>\n",
       "      <td>52.699586</td>\n",
       "    </tr>\n",
       "    <tr>\n",
       "      <th>01:17:35.748587</th>\n",
       "      <td>4.405093</td>\n",
       "      <td>28.526955</td>\n",
       "      <td>-2.910619</td>\n",
       "      <td>2.929845</td>\n",
       "      <td>34.782839</td>\n",
       "      <td>5.0</td>\n",
       "      <td>52.698076</td>\n",
       "    </tr>\n",
       "    <tr>\n",
       "      <th>01:17:35.750587</th>\n",
       "      <td>4.406384</td>\n",
       "      <td>28.519511</td>\n",
       "      <td>-2.903458</td>\n",
       "      <td>2.991649</td>\n",
       "      <td>34.781329</td>\n",
       "      <td>5.0</td>\n",
       "      <td>52.696566</td>\n",
       "    </tr>\n",
       "    <tr>\n",
       "      <th>01:17:35.752587</th>\n",
       "      <td>4.407675</td>\n",
       "      <td>28.512067</td>\n",
       "      <td>-2.896297</td>\n",
       "      <td>3.053454</td>\n",
       "      <td>34.779819</td>\n",
       "      <td>5.0</td>\n",
       "      <td>52.695056</td>\n",
       "    </tr>\n",
       "    <tr>\n",
       "      <th>01:17:35.754587</th>\n",
       "      <td>4.408966</td>\n",
       "      <td>28.504623</td>\n",
       "      <td>-2.889136</td>\n",
       "      <td>3.115258</td>\n",
       "      <td>34.778310</td>\n",
       "      <td>5.0</td>\n",
       "      <td>52.693547</td>\n",
       "    </tr>\n",
       "  </tbody>\n",
       "</table>\n",
       "<p>1022605 rows × 7 columns</p>\n",
       "</div>"
      ],
      "text/plain": [
       "                 x_position  y_position  head_direction      speed  \\\n",
       "time                                                                 \n",
       "00:43:30.546587   28.574616   50.447565       -0.524582  27.167580   \n",
       "00:43:30.548587   28.620635   50.416210       -0.522722  27.038446   \n",
       "00:43:30.550587   28.666655   50.384854       -0.520861  26.909312   \n",
       "00:43:30.552587   28.712674   50.353498       -0.519001  26.780177   \n",
       "00:43:30.554587   28.758693   50.322143       -0.517140  26.651043   \n",
       "...                     ...         ...             ...        ...   \n",
       "01:17:35.746587    4.403802   28.534400       -2.917781   2.868040   \n",
       "01:17:35.748587    4.405093   28.526955       -2.910619   2.929845   \n",
       "01:17:35.750587    4.406384   28.519511       -2.903458   2.991649   \n",
       "01:17:35.752587    4.407675   28.512067       -2.896297   3.053454   \n",
       "01:17:35.754587    4.408966   28.504623       -2.889136   3.115258   \n",
       "\n",
       "                 linear_distance  track_segment_id  linear_position  \n",
       "time                                                                 \n",
       "00:43:30.546587        55.166435               0.0       241.577308  \n",
       "00:43:30.548587        55.111752               0.0       241.522625  \n",
       "00:43:30.550587        55.057070               0.0       241.467942  \n",
       "00:43:30.552587        55.002387               0.0       241.413260  \n",
       "00:43:30.554587        54.947704               0.0       241.358577  \n",
       "...                          ...               ...              ...  \n",
       "01:17:35.746587        34.784349               5.0        52.699586  \n",
       "01:17:35.748587        34.782839               5.0        52.698076  \n",
       "01:17:35.750587        34.781329               5.0        52.696566  \n",
       "01:17:35.752587        34.779819               5.0        52.695056  \n",
       "01:17:35.754587        34.778310               5.0        52.693547  \n",
       "\n",
       "[1022605 rows x 7 columns]"
      ]
     },
     "execution_count": 5,
     "metadata": {},
     "output_type": "execute_result"
    }
   ],
   "source": [
    "data['position_info']"
   ]
  },
  {
   "cell_type": "code",
   "execution_count": 6,
   "metadata": {},
   "outputs": [
    {
     "data": {
      "image/png": "[encoded data removed]",
      "text/plain": [
       "<Figure size 1440x360 with 1 Axes>"
      ]
     },
     "metadata": {
      "image/png": {
       "height": 318,
       "width": 1170
      },
      "needs_background": "light"
     },
     "output_type": "display_data"
    }
   ],
   "source": [
    "fig, ax = plt.subplots(figsize=(20, 5))\n",
    "\n",
    "for edge_label, df in data['position_info'].groupby('track_segment_id'):\n",
    "    ax.scatter(df.index / np.timedelta64(1, 's'), df.linear_position, s=1)\n",
    "    \n",
    "ax.set_ylabel('Position [cm]')\n",
    "ax.set_xlabel('Time [s]');"
   ]
  },
  {
   "cell_type": "code",
   "execution_count": 7,
   "metadata": {},
   "outputs": [
    {
     "data": {
      "text/html": [
       "<pre>&lt;xarray.DataArray (time: 1022605, features: 4, tetrodes: 27)&gt;\n",
       "array([[[ nan,  nan,  nan, ...,  nan,  nan,  nan],\n",
       "        [ nan,  nan,  nan, ...,  nan,  nan,  nan],\n",
       "        [ nan,  nan,  nan, ...,  nan,  nan,  nan],\n",
       "        [ nan,  nan,  nan, ...,  nan,  nan,  nan]],\n",
       "\n",
       "       [[ nan,  33.,  nan, ...,  nan, 187.,  nan],\n",
       "        [ nan,  71.,  nan, ...,  nan,  -2.,  nan],\n",
       "        [ nan,  19.,  nan, ...,  nan,  58.,  nan],\n",
       "        [ nan,  29.,  nan, ...,  nan,  48.,  nan]],\n",
       "\n",
       "       [[ nan,  51.,  nan, ...,  nan,  47.,  nan],\n",
       "        [ nan, 624.,  nan, ...,  nan,  33.,  nan],\n",
       "        [ nan,  18.,  nan, ...,  nan,  62.,  nan],\n",
       "        [ nan,  95.,  nan, ...,  nan,  48.,  nan]],\n",
       "\n",
       "       ...,\n",
       "\n",
       "       [[ nan,  nan,  nan, ...,  nan,  nan,  nan],\n",
       "        [ nan,  nan,  nan, ...,  nan,  nan,  nan],\n",
       "        [ nan,  nan,  nan, ...,  nan,  nan,  nan],\n",
       "        [ nan,  nan,  nan, ...,  nan,  nan,  nan]],\n",
       "\n",
       "       [[ nan,  nan,  nan, ...,  nan,  nan,  nan],\n",
       "        [ nan,  nan,  nan, ...,  nan,  nan,  nan],\n",
       "        [ nan,  nan,  nan, ...,  nan,  nan,  nan],\n",
       "        [ nan,  nan,  nan, ...,  nan,  nan,  nan]],\n",
       "\n",
       "       [[ nan,  nan,  nan, ...,  nan,  nan,  nan],\n",
       "        [ nan,  nan,  nan, ...,  nan,  nan,  nan],\n",
       "        [ nan,  nan,  nan, ...,  nan,  nan,  nan],\n",
       "        [ nan,  nan,  nan, ...,  nan,  nan,  nan]]])\n",
       "Coordinates:\n",
       "  * time      (time) timedelta64[ns] 00:43:30.546587 ... 01:17:35.754587\n",
       "  * features  (features) &lt;U13 &#x27;channel_1_max&#x27; ... &#x27;channel_4_max&#x27;\n",
       "Dimensions without coordinates: tetrodes</pre>"
      ],
      "text/plain": [
       "<xarray.DataArray (time: 1022605, features: 4, tetrodes: 27)>\n",
       "array([[[ nan,  nan,  nan, ...,  nan,  nan,  nan],\n",
       "        [ nan,  nan,  nan, ...,  nan,  nan,  nan],\n",
       "        [ nan,  nan,  nan, ...,  nan,  nan,  nan],\n",
       "        [ nan,  nan,  nan, ...,  nan,  nan,  nan]],\n",
       "\n",
       "       [[ nan,  33.,  nan, ...,  nan, 187.,  nan],\n",
       "        [ nan,  71.,  nan, ...,  nan,  -2.,  nan],\n",
       "        [ nan,  19.,  nan, ...,  nan,  58.,  nan],\n",
       "        [ nan,  29.,  nan, ...,  nan,  48.,  nan]],\n",
       "\n",
       "       [[ nan,  51.,  nan, ...,  nan,  47.,  nan],\n",
       "        [ nan, 624.,  nan, ...,  nan,  33.,  nan],\n",
       "        [ nan,  18.,  nan, ...,  nan,  62.,  nan],\n",
       "        [ nan,  95.,  nan, ...,  nan,  48.,  nan]],\n",
       "\n",
       "       ...,\n",
       "\n",
       "       [[ nan,  nan,  nan, ...,  nan,  nan,  nan],\n",
       "        [ nan,  nan,  nan, ...,  nan,  nan,  nan],\n",
       "        [ nan,  nan,  nan, ...,  nan,  nan,  nan],\n",
       "        [ nan,  nan,  nan, ...,  nan,  nan,  nan]],\n",
       "\n",
       "       [[ nan,  nan,  nan, ...,  nan,  nan,  nan],\n",
       "        [ nan,  nan,  nan, ...,  nan,  nan,  nan],\n",
       "        [ nan,  nan,  nan, ...,  nan,  nan,  nan],\n",
       "        [ nan,  nan,  nan, ...,  nan,  nan,  nan]],\n",
       "\n",
       "       [[ nan,  nan,  nan, ...,  nan,  nan,  nan],\n",
       "        [ nan,  nan,  nan, ...,  nan,  nan,  nan],\n",
       "        [ nan,  nan,  nan, ...,  nan,  nan,  nan],\n",
       "        [ nan,  nan,  nan, ...,  nan,  nan,  nan]]])\n",
       "Coordinates:\n",
       "  * time      (time) timedelta64[ns] 00:43:30.546587 ... 01:17:35.754587\n",
       "  * features  (features) <U13 'channel_1_max' ... 'channel_4_max'\n",
       "Dimensions without coordinates: tetrodes"
      ]
     },
     "execution_count": 7,
     "metadata": {},
     "output_type": "execute_result"
    }
   ],
   "source": [
    "data['multiunits']"
   ]
  },
  {
   "cell_type": "code",
   "execution_count": 8,
   "metadata": {},
   "outputs": [
    {
     "data": {
      "text/html": [
       "<pre>&lt;xarray.DataArray (time: 146536, features: 4)&gt;\n",
       "array([[ 47.,  53.,  27.,  63.],\n",
       "       [140.,  -4.,  37.,  27.],\n",
       "       [109.,  -4.,  33.,  30.],\n",
       "       ...,\n",
       "       [ 60.,  52.,  31.,  34.],\n",
       "       [ 80.,  63.,  59.,  72.],\n",
       "       [ 49.,  31.,  21.,  66.]])\n",
       "Coordinates:\n",
       "  * time      (time) timedelta64[ns] 00:43:30.564587 ... 01:17:35.748587\n",
       "  * features  (features) &lt;U13 &#x27;channel_1_max&#x27; ... &#x27;channel_4_max&#x27;</pre>"
      ],
      "text/plain": [
       "<xarray.DataArray (time: 146536, features: 4)>\n",
       "array([[ 47.,  53.,  27.,  63.],\n",
       "       [140.,  -4.,  37.,  27.],\n",
       "       [109.,  -4.,  33.,  30.],\n",
       "       ...,\n",
       "       [ 60.,  52.,  31.,  34.],\n",
       "       [ 80.,  63.,  59.,  72.],\n",
       "       [ 49.,  31.,  21.,  66.]])\n",
       "Coordinates:\n",
       "  * time      (time) timedelta64[ns] 00:43:30.564587 ... 01:17:35.748587\n",
       "  * features  (features) <U13 'channel_1_max' ... 'channel_4_max'"
      ]
     },
     "execution_count": 8,
     "metadata": {},
     "output_type": "execute_result"
    }
   ],
   "source": [
    "data['multiunits'].isel(tetrodes=0).dropna('time')"
   ]
  },
  {
   "cell_type": "markdown",
   "metadata": {},
   "source": [
    "## Fitting the decoder\n",
    "\n",
    "Dask is used to parallelize the clusterless decode. In this case we are only using one worker, but we could use more to speed up the decoding."
   ]
  },
  {
   "cell_type": "code",
   "execution_count": 9,
   "metadata": {},
   "outputs": [],
   "source": [
    "from dask.distributed import Client\n",
    "\n",
    "client = Client(n_workers=1,\n",
    "                threads_per_worker=1,\n",
    "                processes=True,\n",
    "                memory_limit='25GB')"
   ]
  },
  {
   "cell_type": "markdown",
   "metadata": {},
   "source": [
    "Next we import the decoder and set the parameters for decoding. We use the help (?) to tell use what the parameters are."
   ]
  },
  {
   "cell_type": "code",
   "execution_count": 10,
   "metadata": {},
   "outputs": [
    {
     "data": {
      "text/plain": [
       "\u001b[0;31mInit signature:\u001b[0m\n",
       "\u001b[0mClusterlessDecoder\u001b[0m\u001b[0;34m(\u001b[0m\u001b[0;34m\u001b[0m\n",
       "\u001b[0;34m\u001b[0m    \u001b[0mplace_bin_size\u001b[0m\u001b[0;34m=\u001b[0m\u001b[0;36m2.0\u001b[0m\u001b[0;34m,\u001b[0m\u001b[0;34m\u001b[0m\n",
       "\u001b[0;34m\u001b[0m    \u001b[0mreplay_speed\u001b[0m\u001b[0;34m=\u001b[0m\u001b[0;36m40\u001b[0m\u001b[0;34m,\u001b[0m\u001b[0;34m\u001b[0m\n",
       "\u001b[0;34m\u001b[0m    \u001b[0mmovement_var\u001b[0m\u001b[0;34m=\u001b[0m\u001b[0;36m0.05\u001b[0m\u001b[0;34m,\u001b[0m\u001b[0;34m\u001b[0m\n",
       "\u001b[0;34m\u001b[0m    \u001b[0mposition_range\u001b[0m\u001b[0;34m=\u001b[0m\u001b[0;32mNone\u001b[0m\u001b[0;34m,\u001b[0m\u001b[0;34m\u001b[0m\n",
       "\u001b[0;34m\u001b[0m    \u001b[0mmodel\u001b[0m\u001b[0;34m=\u001b[0m\u001b[0;34m<\u001b[0m\u001b[0;32mclass\u001b[0m \u001b[0;34m'replay_trajectory_classification.misc.NumbaKDE'\u001b[0m\u001b[0;34m>\u001b[0m\u001b[0;34m,\u001b[0m\u001b[0;34m\u001b[0m\n",
       "\u001b[0;34m\u001b[0m    \u001b[0mmodel_kwargs\u001b[0m\u001b[0;34m=\u001b[0m\u001b[0;34m{\u001b[0m\u001b[0;34m'bandwidth'\u001b[0m\u001b[0;34m:\u001b[0m \u001b[0marray\u001b[0m\u001b[0;34m(\u001b[0m\u001b[0;34m[\u001b[0m\u001b[0;36m24.\u001b[0m\u001b[0;34m,\u001b[0m \u001b[0;36m24.\u001b[0m\u001b[0;34m,\u001b[0m \u001b[0;36m24.\u001b[0m\u001b[0;34m,\u001b[0m \u001b[0;36m24.\u001b[0m\u001b[0;34m,\u001b[0m  \u001b[0;36m6.\u001b[0m\u001b[0;34m,\u001b[0m  \u001b[0;36m6.\u001b[0m\u001b[0;34m]\u001b[0m\u001b[0;34m)\u001b[0m\u001b[0;34m}\u001b[0m\u001b[0;34m,\u001b[0m\u001b[0;34m\u001b[0m\n",
       "\u001b[0;34m\u001b[0m    \u001b[0moccupancy_model\u001b[0m\u001b[0;34m=\u001b[0m\u001b[0;32mNone\u001b[0m\u001b[0;34m,\u001b[0m\u001b[0;34m\u001b[0m\n",
       "\u001b[0;34m\u001b[0m    \u001b[0moccupancy_kwargs\u001b[0m\u001b[0;34m=\u001b[0m\u001b[0;32mNone\u001b[0m\u001b[0;34m,\u001b[0m\u001b[0;34m\u001b[0m\n",
       "\u001b[0;34m\u001b[0m    \u001b[0mtransition_type\u001b[0m\u001b[0;34m=\u001b[0m\u001b[0;34m'random_walk'\u001b[0m\u001b[0;34m,\u001b[0m\u001b[0;34m\u001b[0m\n",
       "\u001b[0;34m\u001b[0m    \u001b[0minitial_conditions_type\u001b[0m\u001b[0;34m=\u001b[0m\u001b[0;34m'uniform_on_track'\u001b[0m\u001b[0;34m,\u001b[0m\u001b[0;34m\u001b[0m\n",
       "\u001b[0;34m\u001b[0m    \u001b[0minfer_track_interior\u001b[0m\u001b[0;34m=\u001b[0m\u001b[0;32mTrue\u001b[0m\u001b[0;34m,\u001b[0m\u001b[0;34m\u001b[0m\n",
       "\u001b[0;34m\u001b[0m\u001b[0;34m)\u001b[0m\u001b[0;34m\u001b[0m\u001b[0;34m\u001b[0m\u001b[0m\n",
       "\u001b[0;31mDocstring:\u001b[0m     \n",
       "Attributes\n",
       "----------\n",
       "place_bin_size : float, optional\n",
       "    Approximate size of the position bins.\n",
       "replay_speed : int, optional\n",
       "    How many times faster the replay movement is than normal movement.\n",
       "movement_var : float, optional\n",
       "    How far the animal is can move in one time bin during normal\n",
       "    movement.\n",
       "position_range : sequence, optional\n",
       "    A sequence of `n_position_dims`, each an optional (lower, upper)\n",
       "    tuple giving the outer bin edges for position.\n",
       "    An entry of None in the sequence results in the minimum and maximum\n",
       "    values being used for the corresponding dimension.\n",
       "    The default, None, is equivalent to passing a tuple of\n",
       "    `n_position_dims` None values.\n",
       "model : scikit-learn density estimator, optional\n",
       "model_kwargs : dict, optional\n",
       "occupancy_model : scikit-learn density estimator, optional\n",
       "occupancy_kwargs : dict, optional\n",
       "transition_type : ('empirical_movement' | 'random_walk' |\n",
       "                   'uniform', 'identity')\n",
       "initial_conditions_type : ('uniform' | 'uniform_on_track')\n",
       "\u001b[0;31mFile:\u001b[0m           ~/miniconda3/envs/cameron_alison_theta_decoding/lib/python3.6/site-packages/replay_trajectory_classification/decoder.py\n",
       "\u001b[0;31mType:\u001b[0m           type\n",
       "\u001b[0;31mSubclasses:\u001b[0m     \n"
      ]
     },
     "metadata": {},
     "output_type": "display_data"
    }
   ],
   "source": [
    "from replay_trajectory_classification import ClusterlessDecoder\n",
    "\n",
    "ClusterlessDecoder?"
   ]
  },
  {
   "cell_type": "markdown",
   "metadata": {},
   "source": [
    "We then set the parameters. In this case, we are using the movement of the rat to create our transition matrix and assuming that the \"replay\" is 40x faster than the rat's actual movements."
   ]
  },
  {
   "cell_type": "code",
   "execution_count": 11,
   "metadata": {},
   "outputs": [],
   "source": [
    "decoder = ClusterlessDecoder(transition_type='empirical_movement', replay_speed=40, place_bin_size=5)"
   ]
  },
  {
   "cell_type": "markdown",
   "metadata": {},
   "source": [
    "We then fit the decoder on the animal's actual position when running (speeds > 4 cm/s), relating the rat's position to the multiunit marks. We can see the settings we used (boo"
   ]
  },
  {
   "cell_type": "code",
   "execution_count": 12,
   "metadata": {},
   "outputs": [
    {
     "name": "stderr",
     "output_type": "stream",
     "text": [
      "INFO:replay_trajectory_classification.decoder:Fitting initial conditions...\n",
      "INFO:replay_trajectory_classification.decoder:Fitting state transition...\n",
      "INFO:replay_trajectory_classification.decoder:Fitting multiunits...\n"
     ]
    },
    {
     "data": {
      "text/plain": [
       "ClusterlessDecoder(infer_track_interior=True,\n",
       "                   initial_conditions_type='uniform_on_track',\n",
       "                   model=<class 'replay_trajectory_classification.misc.NumbaKDE'>,\n",
       "                   model_kwargs={'bandwidth': array([24., 24., 24., 24.,  6.,  6.])},\n",
       "                   movement_var=0.05,\n",
       "                   occupancy_kwargs={'bandwidth': array([24., 24., 24., 24.,  6.,  6.])},\n",
       "                   occupancy_model=<class 'replay_trajectory_classification.misc.NumbaKDE'>,\n",
       "                   place_bin_size=5, position_range=None, replay_speed=40,\n",
       "                   transition_type='empirical_movement')"
      ]
     },
     "execution_count": 12,
     "metadata": {},
     "output_type": "execute_result"
    }
   ],
   "source": [
    "decoder.fit(\n",
    "    position=data['position_info'].linear_position,\n",
    "    multiunits=data['multiunits'],\n",
    "    is_training=data['position_info'].speed > 4)"
   ]
  },
  {
   "cell_type": "markdown",
   "metadata": {},
   "source": [
    "## Decoding\n",
    "\n",
    "We can then use the `predict` function to decode a piece of data. In this case we are decoding the first 10 timepoints of the dataset. This function returns an `xarray` object."
   ]
  },
  {
   "cell_type": "code",
   "execution_count": 13,
   "metadata": {},
   "outputs": [
    {
     "data": {
      "text/html": [
       "<pre>&lt;xarray.Dataset&gt;\n",
       "Dimensions:            (position: 58, time: 10)\n",
       "Coordinates:\n",
       "  * time               (time) int64 0 1 2 3 4 5 6 7 8 9\n",
       "  * position           (position) float64 2.477 7.43 12.38 ... 274.9 279.9 284.8\n",
       "Data variables:\n",
       "    likelihood         (time, position) float64 0.5231 0.4901 ... 0.6036 0.7384\n",
       "    causal_posterior   (time, position) float64 0.04662 0.04369 ... 0.01081\n",
       "    acausal_posterior  (time, position) float64 0.002505 0.0006182 ... 0.01081</pre>"
      ],
      "text/plain": [
       "<xarray.Dataset>\n",
       "Dimensions:            (position: 58, time: 10)\n",
       "Coordinates:\n",
       "  * time               (time) int64 0 1 2 3 4 5 6 7 8 9\n",
       "  * position           (position) float64 2.477 7.43 12.38 ... 274.9 279.9 284.8\n",
       "Data variables:\n",
       "    likelihood         (time, position) float64 0.5231 0.4901 ... 0.6036 0.7384\n",
       "    causal_posterior   (time, position) float64 0.04662 0.04369 ... 0.01081\n",
       "    acausal_posterior  (time, position) float64 0.002505 0.0006182 ... 0.01081"
      ]
     },
     "execution_count": 13,
     "metadata": {},
     "output_type": "execute_result"
    }
   ],
   "source": [
    "results = decoder.predict(data['multiunits'].isel(time=slice(1050, 1060)))\n",
    "results"
   ]
  },
  {
   "cell_type": "markdown",
   "metadata": {},
   "source": [
    "We can then plot the acausal decode (using both past and future data) easily with xarray."
   ]
  },
  {
   "cell_type": "code",
   "execution_count": 14,
   "metadata": {},
   "outputs": [
    {
     "data": {
      "text/plain": [
       "<matplotlib.collections.QuadMesh at 0x11da46390>"
      ]
     },
     "execution_count": 14,
     "metadata": {},
     "output_type": "execute_result"
    },
    {
     "data": {
      "image/png": "[encoded data removed]",
      "text/plain": [
       "<Figure size 432x288 with 2 Axes>"
      ]
     },
     "metadata": {
      "image/png": {
       "height": 261,
       "width": 392
      },
      "needs_background": "light"
     },
     "output_type": "display_data"
    }
   ],
   "source": [
    "fig, ax = plt.subplots()\n",
    "results.acausal_posterior.plot(x='time', y='position', ax=ax)"
   ]
  },
  {
   "cell_type": "code",
   "execution_count": null,
   "metadata": {},
   "outputs": [],
   "source": []
  }
 ],
 "metadata": {
  "kernelspec": {
   "display_name": "Python [conda env:cameron_alison_theta_decoding] *",
   "language": "python",
   "name": "conda-env-cameron_alison_theta_decoding-py"
  },
  "language_info": {
   "codemirror_mode": {
    "name": "ipython",
    "version": 3
   },
   "file_extension": ".py",
   "mimetype": "text/x-python",
   "name": "python",
   "nbconvert_exporter": "python",
   "pygments_lexer": "ipython3",
   "version": "3.6.7"
  }
 },
 "nbformat": 4,
 "nbformat_minor": 4
}
