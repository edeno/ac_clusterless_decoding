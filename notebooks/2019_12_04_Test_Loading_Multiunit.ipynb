{
 "cells": [
  {
   "cell_type": "code",
   "execution_count": null,
   "metadata": {},
   "outputs": [],
   "source": [
    "%matplotlib inline\n",
    "%reload_ext autoreload\n",
    "%autoreload 2\n",
    "%config InlineBackend.figure_format = 'retina'"
   ]
  },
  {
   "cell_type": "code",
   "execution_count": null,
   "metadata": {},
   "outputs": [],
   "source": [
    "import numpy as np\n",
    "import matplotlib.pyplot as plt\n",
    "\n",
    "import logging\n",
    "logging.basicConfig(level=logging.INFO)"
   ]
  },
  {
   "cell_type": "code",
   "execution_count": null,
   "metadata": {},
   "outputs": [],
   "source": [
    "from src.parameters import ANIMALS\n",
    "\n",
    "epoch_key = ('jaq', 1, 2)"
   ]
  },
  {
   "cell_type": "code",
   "execution_count": null,
   "metadata": {},
   "outputs": [],
   "source": [
    "from loren_frank_data_processing import make_tetrode_dataframe\n",
    "\n",
    "tetrode_info = (make_tetrode_dataframe(ANIMALS)\n",
    "                .xs(epoch_key, drop_level=False))\n",
    "\n",
    "tetrode_info = tetrode_info.loc[tetrode_info.area == 'ca1']\n",
    "tetrode_info"
   ]
  },
  {
   "cell_type": "code",
   "execution_count": null,
   "metadata": {},
   "outputs": [],
   "source": [
    "from loren_frank_data_processing import get_all_multiunit_indicators\n",
    "\n",
    "tetrode_keys = tetrode_info.index\n",
    "multiunits = get_all_multiunit_indicators(tetrode_keys, ANIMALS)\n",
    "multiunits"
   ]
  },
  {
   "cell_type": "code",
   "execution_count": null,
   "metadata": {},
   "outputs": [],
   "source": [
    "from src.load_data import get_filter_filename\n",
    "from scipy.io import loadmat\n",
    "import pandas as pd\n",
    "\n",
    "tetrode_key = ('jaq', 1, 2, 1)\n",
    "animals = ANIMALS\n",
    "freq_band='theta'\n",
    "\n",
    "filter_file = loadmat(\n",
    "    get_filter_filename(tetrode_key, animals, freq_band))\n",
    "filter_data = filter_file[freq_band][0, -1][0, -1][0, -1][0]\n",
    "COLUMNS = ['bandpassed_lfp', 'instantaneous_phase', 'envelope_magnitude']\n",
    "df = pd.DataFrame(filter_data['data'][0], columns=COLUMNS)\n",
    "\n",
    "df.iloc[:1500, 0].plot()\n",
    "df.iloc[:1500, 1].plot()\n",
    "df.iloc[:1500, 2].plot()"
   ]
  },
  {
   "cell_type": "code",
   "execution_count": null,
   "metadata": {},
   "outputs": [],
   "source": [
    "from loren_frank_data_processing.core import reconstruct_time\n",
    "\n",
    "time = reconstruct_time(\n",
    "    filter_data['starttime'][0][0][0],\n",
    "    filter_data['data'][0].shape[0],\n",
    "    float(filter_data['samprate'][0][0][0]))"
   ]
  },
  {
   "cell_type": "code",
   "execution_count": null,
   "metadata": {},
   "outputs": [],
   "source": [
    "from src.load_data import get_filter\n",
    "\n",
    "get_filter(tetrode_key, ANIMALS)"
   ]
  },
  {
   "cell_type": "code",
   "execution_count": null,
   "metadata": {},
   "outputs": [],
   "source": [
    "\n",
    "tetrode_info = (make_tetrode_dataframe(ANIMALS)\n",
    "                .xs(epoch_key, drop_level=False))\n",
    "tetrode_info.loc[tetrode_info.area == 'cc'].index[0]"
   ]
  },
  {
   "cell_type": "code",
   "execution_count": null,
   "metadata": {},
   "outputs": [],
   "source": [
    "tetrode_info.reset_index().tetrode_number == tetrode_info.ref.dropna().unique()"
   ]
  },
  {
   "cell_type": "code",
   "execution_count": null,
   "metadata": {},
   "outputs": [],
   "source": [
    "is_ref = (tetrode_info.reset_index()\n",
    "          .tetrode_number.isin(tetrode_info.ref.dropna().unique())).values\n",
    "ref_tetrode_key = tetrode_info.loc[is_ref].index[0]\n",
    "theta_df = get_filter(ref_tetrode_key, ANIMALS, freq_band='theta')"
   ]
  },
  {
   "cell_type": "code",
   "execution_count": null,
   "metadata": {},
   "outputs": [],
   "source": [
    "theta_df"
   ]
  },
  {
   "cell_type": "code",
   "execution_count": null,
   "metadata": {},
   "outputs": [],
   "source": [
    "from src.load_data import get_interpolated_position_info\n",
    "\n",
    "position_info = get_interpolated_position_info(epoch_key, ANIMALS)"
   ]
  },
  {
   "cell_type": "code",
   "execution_count": null,
   "metadata": {},
   "outputs": [],
   "source": [
    "position_info"
   ]
  },
  {
   "cell_type": "code",
   "execution_count": null,
   "metadata": {},
   "outputs": [],
   "source": [
    "    is_ref = (tetrode_info.reset_index()\n",
    "              .tetrode_number.isin(tetrode_info.ref.dropna().unique())).values\n",
    "    ref_tetrode_key = tetrode_info.loc[is_ref].index[0]\n",
    "    theta_df = get_filter(ref_tetrode_key, ANIMALS, freq_band='theta')"
   ]
  },
  {
   "cell_type": "code",
   "execution_count": null,
   "metadata": {},
   "outputs": [],
   "source": [
    "theta_df"
   ]
  },
  {
   "cell_type": "code",
   "execution_count": null,
   "metadata": {},
   "outputs": [],
   "source": [
    "ref_tetrode_key"
   ]
  },
  {
   "cell_type": "code",
   "execution_count": null,
   "metadata": {},
   "outputs": [],
   "source": [
    "from src.load_data import get_filter\n",
    "\n",
    "tetrode_key = ('jaq', 1, 2, 1)\n",
    "theta_df = get_filter(tetrode_key, ANIMALS, freq_band='theta')"
   ]
  },
  {
   "cell_type": "code",
   "execution_count": null,
   "metadata": {},
   "outputs": [],
   "source": [
    "theta_df"
   ]
  },
  {
   "cell_type": "code",
   "execution_count": null,
   "metadata": {},
   "outputs": [],
   "source": []
  },
  {
   "cell_type": "code",
   "execution_count": null,
   "metadata": {},
   "outputs": [],
   "source": []
  }
 ],
 "metadata": {
  "kernelspec": {
   "display_name": "Python [conda env:ac_clusterless_decoding] *",
   "language": "python",
   "name": "conda-env-ac_clusterless_decoding-py"
  },
  "language_info": {
   "codemirror_mode": {
    "name": "ipython",
    "version": 3
   },
   "file_extension": ".py",
   "mimetype": "text/x-python",
   "name": "python",
   "nbconvert_exporter": "python",
   "pygments_lexer": "ipython3",
   "version": "3.6.10"
  }
 },
 "nbformat": 4,
 "nbformat_minor": 4
}
